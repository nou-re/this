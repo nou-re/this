{
 "cells": [
  {
   "cell_type": "code",
   "execution_count": 1,
   "id": "f22004b0-de72-4029-b8ee-fbfefc35aac8",
   "metadata": {},
   "outputs": [
    {
     "name": "stdout",
     "output_type": "stream",
     "text": [
      "hello mine\n"
     ]
    }
   ],
   "source": [
    "print(\"hello mine\")"
   ]
  },
  {
   "cell_type": "code",
   "execution_count": null,
   "id": "52851a7c-1a67-489b-9c1d-a2441b2fcf7d",
   "metadata": {},
   "outputs": [],
   "source": []
  }
 ],
 "metadata": {
  "kernelspec": {
   "display_name": "Python 3 (ipykernel)",
   "language": "python",
   "name": "python3"
  },
  "language_info": {
   "codemirror_mode": {
    "name": "ipython",
    "version": 3
   },
   "file_extension": ".py",
   "mimetype": "text/x-python",
   "name": "python",
   "nbconvert_exporter": "python",
   "pygments_lexer": "ipython3",
   "version": "3.10.13"
  }
 },
 "nbformat": 4,
 "nbformat_minor": 5
}
